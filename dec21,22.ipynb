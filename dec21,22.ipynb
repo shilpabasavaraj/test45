{
 "cells": [
  {
   "cell_type": "markdown",
   "metadata": {},
   "source": [
    "# Descriptive Statistics"
   ]
  },
  {
   "cell_type": "code",
   "execution_count": null,
   "metadata": {},
   "outputs": [],
   "source": [
    "data:image/png;base64,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"
   ]
  },
  {
   "cell_type": "code",
   "execution_count": null,
   "metadata": {},
   "outputs": [],
   "source": [
    "Why study data types?\n"
   ]
  },
  {
   "cell_type": "code",
   "execution_count": null,
   "metadata": {},
   "outputs": [],
   "source": [
    "Categorical Data (Nominal, Ordinal)\n",
    "Numerical Data (Discrete, Continuous, Interval, Ratio)"
   ]
  },
  {
   "cell_type": "code",
   "execution_count": null,
   "metadata": {},
   "outputs": [],
   "source": [
    "Nominal Data\n",
    "Nominal values represent discrete units and are used to label variables,\n",
    "that have no quantitative value. Just think of them as „labels“. Note that nominal data that has no order. \n",
    "Therefore if you would change the order of its values, the meaning would not change\n",
    "\n",
    "\n",
    "eg : are you single?\n",
    "    what languages do you speak?\n",
    "    \n",
    "Measures : N\n",
    "ordered :N\n",
    "Equidistant :N\n",
    "meaningfull 0 :No"
   ]
  },
  {
   "cell_type": "code",
   "execution_count": null,
   "metadata": {},
   "outputs": [],
   "source": [
    "Ordinal Data\n",
    "Ordinal values represent discrete and ordered units. \n",
    "It is therefore nearly the same as nominal data, except that it’s ordering matters. You can see an example below;\n",
    "\n",
    "ratings\n",
    "\n",
    "Measures : N\n",
    "ordered :Y\n",
    "Equidistant :N\n",
    "meaningfull 0 :No"
   ]
  },
  {
   "cell_type": "code",
   "execution_count": null,
   "metadata": {},
   "outputs": [],
   "source": [
    "Quantitative data :temperature: interval data\n",
    "        \n",
    "        \n",
    "\n",
    "Interval values represent ordered units that have the same difference. \n",
    "Therefore we speak of interval data when we have a variable that contains numeric values that \n",
    "are ordered and\n",
    "where we know the exact differences between the values. An example would be a feature that contains temperature .\n",
    "\n",
    "\n",
    "he problem with interval values data is that they don’t have a „true zero“. That means in regards to our example, \n",
    "that there is no such thing as no temperature.\n",
    "With interval data, we can add and subtract, but we cannot multiply, divide or calculate ratios.\n",
    "Because there is no true zero, a lot of descriptive and inferential statistics can’t be applied.\n",
    "    \n",
    "Measures : Y\n",
    "ordered :Y\n",
    "Equidistant :Y ( 1degree -2 degree)( no * and /)\n",
    "meaningfull 0 :No"
   ]
  },
  {
   "cell_type": "code",
   "execution_count": null,
   "metadata": {},
   "outputs": [],
   "source": [
    "ratio:distances\n",
    "    \n",
    "    Ratio Data\n",
    "\n",
    "Ratio values are also ordered units that have the same difference.\n",
    "Ratio values are the same as interval values, with the difference that they do have an\n",
    "absolute zero.\n",
    "Good examples are height, weight, length etc.\n",
    "Measures : Y\n",
    "ordered :Y\n",
    "Equidistant :Y ( 1degree -2 degree)( no * and /)\n",
    "meaningfull 0 :Y\n",
    "    no negative data ( age)"
   ]
  },
  {
   "cell_type": "code",
   "execution_count": null,
   "metadata": {},
   "outputs": [],
   "source": [
    "1. Discrete Data\n",
    "We speak of discrete data if its values are distinct and separate. \n",
    "In other words: We speak of discrete data if the data can only take on certain values.\n",
    "    This type of data can’t be measured but it can be counted. It basically represents information that can be \n",
    "    categorized into a classification. An example is the number of heads in 100 coin flips."
   ]
  },
  {
   "cell_type": "code",
   "execution_count": null,
   "metadata": {},
   "outputs": [],
   "source": [
    " Continuous Data\n",
    "Continuous Data represents measurements and therefore their values can’t be counted but they can be measured.\n",
    "An example would be the height of a person, which you can describe by using intervals on the real number line."
   ]
  },
  {
   "cell_type": "code",
   "execution_count": null,
   "metadata": {},
   "outputs": [],
   "source": []
  },
  {
   "cell_type": "code",
   "execution_count": null,
   "metadata": {},
   "outputs": [],
   "source": [
    "Once we have collected the data, what will we do with it? Data can be analyzed and used in various methods and formats.\n",
    "There are two types of statistical methods widely used for analyzing data.\n",
    "\n",
    "1. Descriptive statistics\n",
    "2. Inferential statistics"
   ]
  },
  {
   "cell_type": "code",
   "execution_count": null,
   "metadata": {},
   "outputs": [],
   "source": [
    "1. Descriptive statistics\n",
    "The study of numerical and graphical ways to describe and display your data is \n",
    "called descriptive statistics. \n",
    "It describes the data and helps us understand the features of the data by  \n",
    "summarizing the given sample set or \n",
    "population of data.\n",
    "In descriptive statistics, we usually take the sample into account."
   ]
  },
  {
   "cell_type": "code",
   "execution_count": null,
   "metadata": {},
   "outputs": [],
   "source": [
    " Statisticians use graphical representation of data to get a clear picture of the data.\n",
    "    Business trends can be analyzed easily with these representations. visual representation is more effective than \n",
    "    presenting huge numbers.\n",
    "    We can describe these data in various dimensions. Various dimensions of describing data are\n",
    "\n",
    "1. Central Tendency of Data\n",
    "\n",
    "2. Dispersion of Data\n",
    "  \n",
    "3. Shape of the Data"
   ]
  },
  {
   "cell_type": "code",
   "execution_count": null,
   "metadata": {},
   "outputs": [],
   "source": [
    "1. Central Tendency of Data\n",
    "\n",
    "1.1 Mean\n",
    "\n",
    "1.2 Median\n",
    "\n",
    "1.3 Mode"
   ]
  },
  {
   "cell_type": "code",
   "execution_count": null,
   "metadata": {},
   "outputs": [],
   "source": [
    "The “Mean” is the average of the data.\n",
    "\n",
    "Average can be identified by summing up all the numbers and then dividing them by the number of observation.\n",
    "\n",
    "Mean = X1 + X2 + X3 +… +  Xn / n"
   ]
  },
  {
   "cell_type": "code",
   "execution_count": null,
   "metadata": {},
   "outputs": [],
   "source": [
    "Outliers influence the central tendency of the data.\n",
    "\n",
    "What are Outliers?\n",
    "Outliers are extreme behaviours. An outlier is a data point that differs significantly from other observations.\n",
    "It can cause serious problems in analysis."
   ]
  },
  {
   "cell_type": "code",
   "execution_count": null,
   "metadata": {},
   "outputs": [],
   "source": [
    "Solution for Outliers problem\n",
    "\n",
    "Removing the outliers while taking average will give us good results."
   ]
  },
  {
   "cell_type": "code",
   "execution_count": null,
   "metadata": {},
   "outputs": [],
   "source": [
    "1.2 Median\n",
    "Median is the 50%th percentile of the data. It is exactly the center point of the data."
   ]
  },
  {
   "cell_type": "code",
   "execution_count": null,
   "metadata": {},
   "outputs": [],
   "source": [
    "Median can be identified by ordering the data and splits the data into two equal parts and find the number. \n",
    "It is the best way to find the center of the data.\n",
    "\n",
    "Because the central tendency of the data is not affected by outliers. Outliers don’t influence the data."
   ]
  },
  {
   "cell_type": "code",
   "execution_count": null,
   "metadata": {},
   "outputs": [],
   "source": [
    "1.3 Mode\n",
    "Mode is frequently occurring data or elements.\n",
    "\n",
    "If an element occurs the highest number of times, it is the mode of that data. If no number in the data is repeated, \n",
    "then there is no mode for that data. There can be more than one mode in a dataset if two values have the same frequency and\n",
    "also the highest frequency.\n",
    "\n",
    "Outliers don’t influence the data.\n",
    "\n",
    "The mode can be calculated for both quantitative and qualitative data\n",
    "Data – 1,3,4,6,7,3,3,5,10, 3\n",
    "\n",
    "Mode is 3\n",
    "\n",
    "because 3 has the highest frequency ( 4 times)\n"
   ]
  },
  {
   "cell_type": "code",
   "execution_count": null,
   "metadata": {},
   "outputs": [],
   "source": [
    "2. Dispersion of Data\n",
    "\n",
    "2.1 Inter Quartile Range ( IQR )\n",
    "\n",
    "\n",
    "2.2 Range\n",
    "\n",
    "2.3 Standard Deviation\n",
    "\n",
    "2.4 Variance"
   ]
  },
  {
   "cell_type": "code",
   "execution_count": null,
   "metadata": {},
   "outputs": [],
   "source": [
    "1. Inter Quartile Range ( IQR )\n",
    "Quartiles are special percentiles.\n",
    "\n",
    "1st Quartile Q1 is the same as the 25th percentile.\n",
    "\n",
    "2nd Quartile Q2 is the same as 50th percentile.\n",
    "\n",
    "3rd Quratile Q3 is same as 75th percentile"
   ]
  },
  {
   "cell_type": "code",
   "execution_count": null,
   "metadata": {},
   "outputs": [],
   "source": [
    "Steps to find quartile and percentile\n",
    "\n",
    "–The data should sorted and ordered from the smallest to the largest.\n",
    "\n",
    "–For Quartiles, ordered data is divided into 4 equal parts.\n",
    "\n",
    "–For Percentiles, ordered data is divided into 100 equal parts."
   ]
  },
  {
   "cell_type": "code",
   "execution_count": null,
   "metadata": {},
   "outputs": [],
   "source": [
    "Inter Quartile Range is the difference between the third quartile(Q3) and the first Quartile (Q1)\n",
    "\n",
    "IQR = Q3- Q1\n",
    "\n",
    "https://editor.analyticsvidhya.com/uploads/47761Copy%20of%20Untitled%20(5).png"
   ]
  },
  {
   "cell_type": "code",
   "execution_count": null,
   "metadata": {},
   "outputs": [],
   "source": [
    "2.2 Range\n",
    "The range is the difference between the largest and the smallest value in the data.\n",
    "\n",
    "Max – Min = Range"
   ]
  },
  {
   "cell_type": "code",
   "execution_count": null,
   "metadata": {},
   "outputs": [],
   "source": [
    "2.3 Standard Deviation\n",
    "The most common measure of spread is the standard deviation.\n",
    "\n",
    "The Standard deviation is the measure of how far the data deviates from the mean value.\n",
    "\n",
    "The standard deviation formula varies for population and sample. Both formulas are similar, but not the same.\n",
    "\n",
    "Symbol used for Sample Standard Deviation  –  “s” (lowercase)\n",
    "Symbol used for Population Standard Deviation – “σ” (sigma, lower case)\n",
    "Steps to find Standard deviation\n",
    "\n",
    "If x is a number, then the difference “x – mean” is its deviation. The deviations are used to calculate the standard deviation.\n",
    "\n",
    "Sample Standard Deviation, s  = Square root of sample variance \n",
    "\n",
    "Sample Standard Deviation, s = Square root of   [Σ(x − x ¯ )2/ n-1]   where x ¯ is average and n is  no. of samples"
   ]
  },
  {
   "cell_type": "code",
   "execution_count": null,
   "metadata": {},
   "outputs": [],
   "source": [
    "2.4 Variance\n",
    "The variance is a measure of variability. It is the average squared deviation from the mean.\n",
    "\n",
    "The symbol σ2 represents the population variance and the symbol for s2 represents sample variance.\n",
    "\n",
    "Population variance   σ2 =  [ Σ(x − μ)2 / N ]\n",
    "\n",
    "Sample Variance  s2  =  [ Σ(x − x ¯ )2/ n-1 ]"
   ]
  },
  {
   "cell_type": "code",
   "execution_count": null,
   "metadata": {},
   "outputs": [],
   "source": [
    "3. Shape of the Data\n",
    "\n",
    "3.1 Symmetric\n",
    "\n",
    "3.2 Skewness\n",
    "\n",
    "3.3 Kurtosis"
   ]
  },
  {
   "cell_type": "code",
   "execution_count": null,
   "metadata": {},
   "outputs": [],
   "source": [
    "In the symmetric shape of the graph, the data is distributed the same on both sides.\n",
    "\n",
    "In symmetric data, the mean and median are located close together.\n",
    "\n"
   ]
  },
  {
   "cell_type": "code",
   "execution_count": null,
   "metadata": {},
   "outputs": [],
   "source": [
    "3.2 Skewness\n",
    "Skewness is the measure of the asymmetry of the distribution of data.\n",
    "\n",
    "The data is not symmetrical (i.e) it is skewed towards one side.\n",
    "\n",
    "Skewness is classified into two types.\n",
    "\n",
    "1. Positive Skew\n",
    "\n",
    "2. Negative Skew"
   ]
  },
  {
   "cell_type": "code",
   "execution_count": null,
   "metadata": {},
   "outputs": [],
   "source": [
    "1.Positively skewed\n",
    "\n",
    "In a Positively skewed distribution, the data values are clustered around the left side of \n",
    "the distribution and the right side is longer.\n",
    "\n",
    "The mean and median will be greater than the mode in the positive skew."
   ]
  },
  {
   "cell_type": "code",
   "execution_count": null,
   "metadata": {},
   "outputs": [],
   "source": [
    "2.Negatively skewed\n",
    "\n",
    "In a Negatively skewed distribution, the data values are clustered around the right side of the distribution and the left side is longer.\n",
    "\n",
    "The mean and median will be less than the mode."
   ]
  },
  {
   "cell_type": "code",
   "execution_count": null,
   "metadata": {},
   "outputs": [],
   "source": [
    "3.3 Kurtosis\n",
    "Kurtosis is the measure of describing the distribution of data."
   ]
  },
  {
   "cell_type": "code",
   "execution_count": 1,
   "metadata": {},
   "outputs": [],
   "source": [
    "# mtcars :descriptive analysis:\n",
    "\n",
    "import pandas  as pd\n",
    "import numpy as np\n",
    "import matplotlib.pyplot as plt"
   ]
  },
  {
   "cell_type": "code",
   "execution_count": 2,
   "metadata": {},
   "outputs": [],
   "source": [
    "df = pd.read_csv(\"mtcars.csv\")\n",
    "\n",
    "#df  = pd.read_csv(r\"C:\\Users\\Shilpa\\OneDrive\\Pictures\\Desktop\\brightc.csv\")"
   ]
  },
  {
   "cell_type": "code",
   "execution_count": 7,
   "metadata": {},
   "outputs": [
    {
     "data": {
      "text/html": [
       "<div>\n",
       "<style scoped>\n",
       "    .dataframe tbody tr th:only-of-type {\n",
       "        vertical-align: middle;\n",
       "    }\n",
       "\n",
       "    .dataframe tbody tr th {\n",
       "        vertical-align: top;\n",
       "    }\n",
       "\n",
       "    .dataframe thead th {\n",
       "        text-align: right;\n",
       "    }\n",
       "</style>\n",
       "<table border=\"1\" class=\"dataframe\">\n",
       "  <thead>\n",
       "    <tr style=\"text-align: right;\">\n",
       "      <th></th>\n",
       "      <th>model</th>\n",
       "      <th>mpg</th>\n",
       "      <th>cyl</th>\n",
       "      <th>disp</th>\n",
       "      <th>hp</th>\n",
       "      <th>drat</th>\n",
       "      <th>wt</th>\n",
       "      <th>qsec</th>\n",
       "      <th>vs</th>\n",
       "      <th>am</th>\n",
       "      <th>gear</th>\n",
       "      <th>carb</th>\n",
       "    </tr>\n",
       "  </thead>\n",
       "  <tbody>\n",
       "    <tr>\n",
       "      <th>0</th>\n",
       "      <td>Mazda RX4</td>\n",
       "      <td>21.0</td>\n",
       "      <td>6</td>\n",
       "      <td>160.0</td>\n",
       "      <td>110</td>\n",
       "      <td>3.90</td>\n",
       "      <td>2.620</td>\n",
       "      <td>16.46</td>\n",
       "      <td>0</td>\n",
       "      <td>1</td>\n",
       "      <td>4</td>\n",
       "      <td>4</td>\n",
       "    </tr>\n",
       "    <tr>\n",
       "      <th>1</th>\n",
       "      <td>Mazda RX4 Wag</td>\n",
       "      <td>21.0</td>\n",
       "      <td>6</td>\n",
       "      <td>160.0</td>\n",
       "      <td>110</td>\n",
       "      <td>3.90</td>\n",
       "      <td>2.875</td>\n",
       "      <td>17.02</td>\n",
       "      <td>0</td>\n",
       "      <td>1</td>\n",
       "      <td>4</td>\n",
       "      <td>4</td>\n",
       "    </tr>\n",
       "    <tr>\n",
       "      <th>2</th>\n",
       "      <td>Datsun 710</td>\n",
       "      <td>22.8</td>\n",
       "      <td>4</td>\n",
       "      <td>108.0</td>\n",
       "      <td>93</td>\n",
       "      <td>3.85</td>\n",
       "      <td>2.320</td>\n",
       "      <td>18.61</td>\n",
       "      <td>1</td>\n",
       "      <td>1</td>\n",
       "      <td>4</td>\n",
       "      <td>1</td>\n",
       "    </tr>\n",
       "    <tr>\n",
       "      <th>3</th>\n",
       "      <td>Hornet 4 Drive</td>\n",
       "      <td>21.4</td>\n",
       "      <td>6</td>\n",
       "      <td>258.0</td>\n",
       "      <td>110</td>\n",
       "      <td>3.08</td>\n",
       "      <td>3.215</td>\n",
       "      <td>19.44</td>\n",
       "      <td>1</td>\n",
       "      <td>0</td>\n",
       "      <td>3</td>\n",
       "      <td>1</td>\n",
       "    </tr>\n",
       "    <tr>\n",
       "      <th>4</th>\n",
       "      <td>Hornet Sportabout</td>\n",
       "      <td>18.7</td>\n",
       "      <td>8</td>\n",
       "      <td>360.0</td>\n",
       "      <td>175</td>\n",
       "      <td>3.15</td>\n",
       "      <td>3.440</td>\n",
       "      <td>17.02</td>\n",
       "      <td>0</td>\n",
       "      <td>0</td>\n",
       "      <td>3</td>\n",
       "      <td>2</td>\n",
       "    </tr>\n",
       "  </tbody>\n",
       "</table>\n",
       "</div>"
      ],
      "text/plain": [
       "               model   mpg  cyl   disp   hp  drat     wt   qsec  vs  am  gear  \\\n",
       "0          Mazda RX4  21.0    6  160.0  110  3.90  2.620  16.46   0   1     4   \n",
       "1      Mazda RX4 Wag  21.0    6  160.0  110  3.90  2.875  17.02   0   1     4   \n",
       "2         Datsun 710  22.8    4  108.0   93  3.85  2.320  18.61   1   1     4   \n",
       "3     Hornet 4 Drive  21.4    6  258.0  110  3.08  3.215  19.44   1   0     3   \n",
       "4  Hornet Sportabout  18.7    8  360.0  175  3.15  3.440  17.02   0   0     3   \n",
       "\n",
       "   carb  \n",
       "0     4  \n",
       "1     4  \n",
       "2     1  \n",
       "3     1  \n",
       "4     2  "
      ]
     },
     "execution_count": 7,
     "metadata": {},
     "output_type": "execute_result"
    }
   ],
   "source": [
    "df.head()"
   ]
  },
  {
   "cell_type": "code",
   "execution_count": 9,
   "metadata": {},
   "outputs": [
    {
     "data": {
      "text/plain": [
       "(32, 12)"
      ]
     },
     "execution_count": 9,
     "metadata": {},
     "output_type": "execute_result"
    }
   ],
   "source": [
    "df.shape\n",
    "# shape : rows,columns"
   ]
  },
  {
   "cell_type": "code",
   "execution_count": 11,
   "metadata": {},
   "outputs": [
    {
     "data": {
      "text/html": [
       "<div>\n",
       "<style scoped>\n",
       "    .dataframe tbody tr th:only-of-type {\n",
       "        vertical-align: middle;\n",
       "    }\n",
       "\n",
       "    .dataframe tbody tr th {\n",
       "        vertical-align: top;\n",
       "    }\n",
       "\n",
       "    .dataframe thead th {\n",
       "        text-align: right;\n",
       "    }\n",
       "</style>\n",
       "<table border=\"1\" class=\"dataframe\">\n",
       "  <thead>\n",
       "    <tr style=\"text-align: right;\">\n",
       "      <th></th>\n",
       "      <th>mpg</th>\n",
       "      <th>cyl</th>\n",
       "      <th>disp</th>\n",
       "      <th>hp</th>\n",
       "      <th>drat</th>\n",
       "      <th>wt</th>\n",
       "      <th>qsec</th>\n",
       "      <th>vs</th>\n",
       "      <th>am</th>\n",
       "      <th>gear</th>\n",
       "      <th>carb</th>\n",
       "    </tr>\n",
       "  </thead>\n",
       "  <tbody>\n",
       "    <tr>\n",
       "      <th>count</th>\n",
       "      <td>32.000000</td>\n",
       "      <td>32.000000</td>\n",
       "      <td>32.000000</td>\n",
       "      <td>32.000000</td>\n",
       "      <td>32.000000</td>\n",
       "      <td>32.000000</td>\n",
       "      <td>32.000000</td>\n",
       "      <td>32.000000</td>\n",
       "      <td>32.000000</td>\n",
       "      <td>32.000000</td>\n",
       "      <td>32.0000</td>\n",
       "    </tr>\n",
       "    <tr>\n",
       "      <th>mean</th>\n",
       "      <td>20.090625</td>\n",
       "      <td>6.187500</td>\n",
       "      <td>230.721875</td>\n",
       "      <td>146.687500</td>\n",
       "      <td>3.596563</td>\n",
       "      <td>3.217250</td>\n",
       "      <td>17.848750</td>\n",
       "      <td>0.437500</td>\n",
       "      <td>0.406250</td>\n",
       "      <td>3.687500</td>\n",
       "      <td>2.8125</td>\n",
       "    </tr>\n",
       "    <tr>\n",
       "      <th>std</th>\n",
       "      <td>6.026948</td>\n",
       "      <td>1.785922</td>\n",
       "      <td>123.938694</td>\n",
       "      <td>68.562868</td>\n",
       "      <td>0.534679</td>\n",
       "      <td>0.978457</td>\n",
       "      <td>1.786943</td>\n",
       "      <td>0.504016</td>\n",
       "      <td>0.498991</td>\n",
       "      <td>0.737804</td>\n",
       "      <td>1.6152</td>\n",
       "    </tr>\n",
       "    <tr>\n",
       "      <th>min</th>\n",
       "      <td>10.400000</td>\n",
       "      <td>4.000000</td>\n",
       "      <td>71.100000</td>\n",
       "      <td>52.000000</td>\n",
       "      <td>2.760000</td>\n",
       "      <td>1.513000</td>\n",
       "      <td>14.500000</td>\n",
       "      <td>0.000000</td>\n",
       "      <td>0.000000</td>\n",
       "      <td>3.000000</td>\n",
       "      <td>1.0000</td>\n",
       "    </tr>\n",
       "    <tr>\n",
       "      <th>25%</th>\n",
       "      <td>15.425000</td>\n",
       "      <td>4.000000</td>\n",
       "      <td>120.825000</td>\n",
       "      <td>96.500000</td>\n",
       "      <td>3.080000</td>\n",
       "      <td>2.581250</td>\n",
       "      <td>16.892500</td>\n",
       "      <td>0.000000</td>\n",
       "      <td>0.000000</td>\n",
       "      <td>3.000000</td>\n",
       "      <td>2.0000</td>\n",
       "    </tr>\n",
       "    <tr>\n",
       "      <th>50%</th>\n",
       "      <td>19.200000</td>\n",
       "      <td>6.000000</td>\n",
       "      <td>196.300000</td>\n",
       "      <td>123.000000</td>\n",
       "      <td>3.695000</td>\n",
       "      <td>3.325000</td>\n",
       "      <td>17.710000</td>\n",
       "      <td>0.000000</td>\n",
       "      <td>0.000000</td>\n",
       "      <td>4.000000</td>\n",
       "      <td>2.0000</td>\n",
       "    </tr>\n",
       "    <tr>\n",
       "      <th>75%</th>\n",
       "      <td>22.800000</td>\n",
       "      <td>8.000000</td>\n",
       "      <td>326.000000</td>\n",
       "      <td>180.000000</td>\n",
       "      <td>3.920000</td>\n",
       "      <td>3.610000</td>\n",
       "      <td>18.900000</td>\n",
       "      <td>1.000000</td>\n",
       "      <td>1.000000</td>\n",
       "      <td>4.000000</td>\n",
       "      <td>4.0000</td>\n",
       "    </tr>\n",
       "    <tr>\n",
       "      <th>max</th>\n",
       "      <td>33.900000</td>\n",
       "      <td>8.000000</td>\n",
       "      <td>472.000000</td>\n",
       "      <td>335.000000</td>\n",
       "      <td>4.930000</td>\n",
       "      <td>5.424000</td>\n",
       "      <td>22.900000</td>\n",
       "      <td>1.000000</td>\n",
       "      <td>1.000000</td>\n",
       "      <td>5.000000</td>\n",
       "      <td>8.0000</td>\n",
       "    </tr>\n",
       "  </tbody>\n",
       "</table>\n",
       "</div>"
      ],
      "text/plain": [
       "             mpg        cyl        disp          hp       drat         wt  \\\n",
       "count  32.000000  32.000000   32.000000   32.000000  32.000000  32.000000   \n",
       "mean   20.090625   6.187500  230.721875  146.687500   3.596563   3.217250   \n",
       "std     6.026948   1.785922  123.938694   68.562868   0.534679   0.978457   \n",
       "min    10.400000   4.000000   71.100000   52.000000   2.760000   1.513000   \n",
       "25%    15.425000   4.000000  120.825000   96.500000   3.080000   2.581250   \n",
       "50%    19.200000   6.000000  196.300000  123.000000   3.695000   3.325000   \n",
       "75%    22.800000   8.000000  326.000000  180.000000   3.920000   3.610000   \n",
       "max    33.900000   8.000000  472.000000  335.000000   4.930000   5.424000   \n",
       "\n",
       "            qsec         vs         am       gear     carb  \n",
       "count  32.000000  32.000000  32.000000  32.000000  32.0000  \n",
       "mean   17.848750   0.437500   0.406250   3.687500   2.8125  \n",
       "std     1.786943   0.504016   0.498991   0.737804   1.6152  \n",
       "min    14.500000   0.000000   0.000000   3.000000   1.0000  \n",
       "25%    16.892500   0.000000   0.000000   3.000000   2.0000  \n",
       "50%    17.710000   0.000000   0.000000   4.000000   2.0000  \n",
       "75%    18.900000   1.000000   1.000000   4.000000   4.0000  \n",
       "max    22.900000   1.000000   1.000000   5.000000   8.0000  "
      ]
     },
     "execution_count": 11,
     "metadata": {},
     "output_type": "execute_result"
    }
   ],
   "source": [
    "df.describe()  # works only on numerical columns\n",
    "\n",
    "# variable\tdescription\n",
    "# mpg\tMiles/(US) gallon\n",
    "# cyl\tNumber of cylinders\n",
    "# disp\tDisplacement (cu.in.)\n",
    "# hp\tGross horsepower\n",
    "# drat\tRear axle ratio\n",
    "# wt\tWeight (lb/1000)\n",
    "# qsec\t1/4 mile time\n",
    "# vs\tV/S\n",
    "# am\tTransmission (0 = automatic, 1 = manual)\n",
    "# gear\tNumber of forward gears\n",
    "# carb\tNumber of carburetors\n",
    "# Explore variables"
   ]
  },
  {
   "cell_type": "code",
   "execution_count": 12,
   "metadata": {
    "scrolled": true
   },
   "outputs": [
    {
     "data": {
      "text/plain": [
       "mpg      20.090625\n",
       "cyl       6.187500\n",
       "disp    230.721875\n",
       "hp      146.687500\n",
       "drat      3.596563\n",
       "wt        3.217250\n",
       "qsec     17.848750\n",
       "vs        0.437500\n",
       "am        0.406250\n",
       "gear      3.687500\n",
       "carb      2.812500\n",
       "dtype: float64"
      ]
     },
     "execution_count": 12,
     "metadata": {},
     "output_type": "execute_result"
    }
   ],
   "source": [
    "df.mean()  # mean of all columns\n"
   ]
  },
  {
   "cell_type": "code",
   "execution_count": 13,
   "metadata": {},
   "outputs": [
    {
     "name": "stdout",
     "output_type": "stream",
     "text": [
      "<class 'pandas.core.frame.DataFrame'>\n",
      "RangeIndex: 32 entries, 0 to 31\n",
      "Data columns (total 12 columns):\n",
      " #   Column  Non-Null Count  Dtype  \n",
      "---  ------  --------------  -----  \n",
      " 0   model   32 non-null     object \n",
      " 1   mpg     32 non-null     float64\n",
      " 2   cyl     32 non-null     int64  \n",
      " 3   disp    32 non-null     float64\n",
      " 4   hp      32 non-null     int64  \n",
      " 5   drat    32 non-null     float64\n",
      " 6   wt      32 non-null     float64\n",
      " 7   qsec    32 non-null     float64\n",
      " 8   vs      32 non-null     int64  \n",
      " 9   am      32 non-null     int64  \n",
      " 10  gear    32 non-null     int64  \n",
      " 11  carb    32 non-null     int64  \n",
      "dtypes: float64(5), int64(6), object(1)\n",
      "memory usage: 3.1+ KB\n"
     ]
    }
   ],
   "source": [
    "df.info()"
   ]
  },
  {
   "cell_type": "raw",
   "metadata": {},
   "source": [
    "The median of a distribution is the value where 50% of the data lies below it and 50% lies above it.\n",
    "In essence, the median splits the data in half. The median is also known as the 50% percentile since 50% of the observations are found below it.\n"
   ]
  },
  {
   "cell_type": "code",
   "execution_count": 27,
   "metadata": {},
   "outputs": [
    {
     "data": {
      "text/plain": [
       "mpg      19.200\n",
       "cyl       6.000\n",
       "disp    196.300\n",
       "hp      123.000\n",
       "drat      3.695\n",
       "wt        3.325\n",
       "qsec     17.710\n",
       "vs        0.000\n",
       "am        0.000\n",
       "gear      4.000\n",
       "carb      2.000\n",
       "dtype: float64"
      ]
     },
     "execution_count": 27,
     "metadata": {},
     "output_type": "execute_result"
    }
   ],
   "source": [
    "df.median()"
   ]
  },
  {
   "cell_type": "code",
   "execution_count": 14,
   "metadata": {},
   "outputs": [
    {
     "data": {
      "text/plain": [
       "array([ 1.09042567, -0.27836822, -0.69330715, ...,  0.00692263,\n",
       "       -0.40011407, -0.59356171])"
      ]
     },
     "execution_count": 14,
     "metadata": {},
     "output_type": "execute_result"
    }
   ],
   "source": [
    "norm_data = np.random.normal(size = 10000)\n",
    "norm_data\n",
    "# norm_data.plot(kind= 'density',\n",
    "#               figsize = (5,5));\n"
   ]
  },
  {
   "cell_type": "code",
   "execution_count": 16,
   "metadata": {},
   "outputs": [
    {
     "data": {
      "text/plain": [
       "<matplotlib.collections.LineCollection at 0x158cf1f2280>"
      ]
     },
     "execution_count": 16,
     "metadata": {},
     "output_type": "execute_result"
    },
    {
     "data": {
      "image/png": "[encoded data removed]",
      "text/plain": [
       "<Figure size 360x360 with 1 Axes>"
      ]
     },
     "metadata": {
      "needs_background": "light"
     },
     "output_type": "display_data"
    }
   ],
   "source": [
    "#In a symmetric distribution, the mean and median will be the same.\n",
    "#Let's investigate with a density plot:\n",
    "\n",
    "norm_data = pd.DataFrame(np.random.normal(size = 10000))\n",
    "norm_data.plot(kind= 'density',\n",
    "              figsize = (5,5));\n",
    "\n",
    "plt.vlines(norm_data.mean(),\n",
    "          ymin = 0,\n",
    "          ymax = 0.4,   \n",
    "          linewidths = 6.0);\n",
    "\n",
    "plt.vlines(norm_data.median(),\n",
    "         ymin = 0,\n",
    "         ymax = 0.4,\n",
    "         linewidths = 3.0,\n",
    "         color = 'red')\n"
   ]
  },
  {
   "cell_type": "code",
   "execution_count": null,
   "metadata": {},
   "outputs": [],
   "source": [
    "#matplotlib.pyplot.vlines(x, ymin, ymax, colors='k', linestyles='solid', label='', *, data=None, **kwargs)"
   ]
  },
  {
   "cell_type": "code",
   "execution_count": null,
   "metadata": {},
   "outputs": [],
   "source": [
    "#In skewed distributions, the mean tends to get pulled in the direction of the skew, \n",
    "#while the median tends to resist the effects of skew:"
   ]
  },
  {
   "cell_type": "code",
   "execution_count": 36,
   "metadata": {},
   "outputs": [
    {
     "data": {
      "image/png": "[encoded data removed]",
      "text/plain": [
       "<Figure size 720x720 with 1 Axes>"
      ]
     },
     "metadata": {
      "needs_background": "light"
     },
     "output_type": "display_data"
    }
   ],
   "source": [
    "skewed_data = pd.DataFrame(np.random.exponential(size=10000))\n",
    "\n",
    "skewed_data.plot(kind=\"density\",\n",
    "              figsize=(10,10),\n",
    "              xlim=(-1,5));\n",
    "\n",
    "\n",
    "plt.vlines(skewed_data.mean(),     # Plot black line at mean\n",
    "           ymin=0, \n",
    "           ymax=0.8,\n",
    "           linewidth=5.0);\n",
    "\n",
    "plt.vlines(skewed_data.median(),   # Plot red line at median\n",
    "           ymin=0, \n",
    "           ymax=0.8, \n",
    "           linewidth=2.0,\n",
    "           color=\"red\");\n",
    "\n"
   ]
  },
  {
   "cell_type": "code",
   "execution_count": null,
   "metadata": {},
   "outputs": [],
   "source": [
    "#The mean is also influenced heavily by outliers, while the median resists the influence of outliers:"
   ]
  },
  {
   "cell_type": "code",
   "execution_count": 39,
   "metadata": {},
   "outputs": [
    {
     "data": {
      "image/png": "[encoded data removed]",
      "text/plain": [
       "<Figure size 720x720 with 1 Axes>"
      ]
     },
     "metadata": {
      "needs_background": "light"
     },
     "output_type": "display_data"
    }
   ],
   "source": [
    "norm_data = np.random.normal(size=50)\n",
    "outliers = np.random.normal(10, size=3)\n",
    "combined_data = pd.DataFrame(np.concatenate((norm_data, outliers), axis=0))\n",
    "\n",
    "combined_data.plot(kind=\"density\",\n",
    "              figsize=(10,10),\n",
    "              xlim=(-5,20));\n",
    "\n",
    "\n",
    "\n",
    "plt.vlines(combined_data.mean(),     # Plot black line at mean\n",
    "           ymin=0, \n",
    "           ymax=0.2,\n",
    "           linewidth=5.0);\n",
    "\n",
    "\n",
    "plt.vlines(combined_data.median(),   # Plot red line at median\n",
    "           ymin=0, \n",
    "           ymax=0.2, \n",
    "           linewidth=2.0,\n",
    "           color=\"red\");\n"
   ]
  },
  {
   "cell_type": "code",
   "execution_count": 42,
   "metadata": {},
   "outputs": [
    {
     "data": {
      "text/html": [
       "<div>\n",
       "<style scoped>\n",
       "    .dataframe tbody tr th:only-of-type {\n",
       "        vertical-align: middle;\n",
       "    }\n",
       "\n",
       "    .dataframe tbody tr th {\n",
       "        vertical-align: top;\n",
       "    }\n",
       "\n",
       "    .dataframe thead th {\n",
       "        text-align: right;\n",
       "    }\n",
       "</style>\n",
       "<table border=\"1\" class=\"dataframe\">\n",
       "  <thead>\n",
       "    <tr style=\"text-align: right;\">\n",
       "      <th></th>\n",
       "      <th>model</th>\n",
       "      <th>mpg</th>\n",
       "      <th>cyl</th>\n",
       "      <th>disp</th>\n",
       "      <th>hp</th>\n",
       "      <th>drat</th>\n",
       "      <th>wt</th>\n",
       "      <th>qsec</th>\n",
       "      <th>vs</th>\n",
       "      <th>am</th>\n",
       "      <th>gear</th>\n",
       "      <th>carb</th>\n",
       "    </tr>\n",
       "  </thead>\n",
       "  <tbody>\n",
       "    <tr>\n",
       "      <th>0</th>\n",
       "      <td>AMC Javelin</td>\n",
       "      <td>10.4</td>\n",
       "      <td>8.0</td>\n",
       "      <td>275.8</td>\n",
       "      <td>110.0</td>\n",
       "      <td>3.07</td>\n",
       "      <td>3.44</td>\n",
       "      <td>17.02</td>\n",
       "      <td>0.0</td>\n",
       "      <td>0.0</td>\n",
       "      <td>3.0</td>\n",
       "      <td>2.0</td>\n",
       "    </tr>\n",
       "    <tr>\n",
       "      <th>1</th>\n",
       "      <td>Cadillac Fleetwood</td>\n",
       "      <td>15.2</td>\n",
       "      <td>NaN</td>\n",
       "      <td>NaN</td>\n",
       "      <td>175.0</td>\n",
       "      <td>3.92</td>\n",
       "      <td>NaN</td>\n",
       "      <td>18.90</td>\n",
       "      <td>NaN</td>\n",
       "      <td>NaN</td>\n",
       "      <td>NaN</td>\n",
       "      <td>4.0</td>\n",
       "    </tr>\n",
       "    <tr>\n",
       "      <th>2</th>\n",
       "      <td>Camaro Z28</td>\n",
       "      <td>19.2</td>\n",
       "      <td>NaN</td>\n",
       "      <td>NaN</td>\n",
       "      <td>180.0</td>\n",
       "      <td>NaN</td>\n",
       "      <td>NaN</td>\n",
       "      <td>NaN</td>\n",
       "      <td>NaN</td>\n",
       "      <td>NaN</td>\n",
       "      <td>NaN</td>\n",
       "      <td>NaN</td>\n",
       "    </tr>\n",
       "    <tr>\n",
       "      <th>3</th>\n",
       "      <td>Chrysler Imperial</td>\n",
       "      <td>21.0</td>\n",
       "      <td>NaN</td>\n",
       "      <td>NaN</td>\n",
       "      <td>NaN</td>\n",
       "      <td>NaN</td>\n",
       "      <td>NaN</td>\n",
       "      <td>NaN</td>\n",
       "      <td>NaN</td>\n",
       "      <td>NaN</td>\n",
       "      <td>NaN</td>\n",
       "      <td>NaN</td>\n",
       "    </tr>\n",
       "    <tr>\n",
       "      <th>4</th>\n",
       "      <td>Datsun 710</td>\n",
       "      <td>21.4</td>\n",
       "      <td>NaN</td>\n",
       "      <td>NaN</td>\n",
       "      <td>NaN</td>\n",
       "      <td>NaN</td>\n",
       "      <td>NaN</td>\n",
       "      <td>NaN</td>\n",
       "      <td>NaN</td>\n",
       "      <td>NaN</td>\n",
       "      <td>NaN</td>\n",
       "      <td>NaN</td>\n",
       "    </tr>\n",
       "    <tr>\n",
       "      <th>5</th>\n",
       "      <td>Dodge Challenger</td>\n",
       "      <td>22.8</td>\n",
       "      <td>NaN</td>\n",
       "      <td>NaN</td>\n",
       "      <td>NaN</td>\n",
       "      <td>NaN</td>\n",
       "      <td>NaN</td>\n",
       "      <td>NaN</td>\n",
       "      <td>NaN</td>\n",
       "      <td>NaN</td>\n",
       "      <td>NaN</td>\n",
       "      <td>NaN</td>\n",
       "    </tr>\n",
       "    <tr>\n",
       "      <th>6</th>\n",
       "      <td>Duster 360</td>\n",
       "      <td>30.4</td>\n",
       "      <td>NaN</td>\n",
       "      <td>NaN</td>\n",
       "      <td>NaN</td>\n",
       "      <td>NaN</td>\n",
       "      <td>NaN</td>\n",
       "      <td>NaN</td>\n",
       "      <td>NaN</td>\n",
       "      <td>NaN</td>\n",
       "      <td>NaN</td>\n",
       "      <td>NaN</td>\n",
       "    </tr>\n",
       "    <tr>\n",
       "      <th>7</th>\n",
       "      <td>Ferrari Dino</td>\n",
       "      <td>NaN</td>\n",
       "      <td>NaN</td>\n",
       "      <td>NaN</td>\n",
       "      <td>NaN</td>\n",
       "      <td>NaN</td>\n",
       "      <td>NaN</td>\n",
       "      <td>NaN</td>\n",
       "      <td>NaN</td>\n",
       "      <td>NaN</td>\n",
       "      <td>NaN</td>\n",
       "      <td>NaN</td>\n",
       "    </tr>\n",
       "    <tr>\n",
       "      <th>8</th>\n",
       "      <td>Fiat 128</td>\n",
       "      <td>NaN</td>\n",
       "      <td>NaN</td>\n",
       "      <td>NaN</td>\n",
       "      <td>NaN</td>\n",
       "      <td>NaN</td>\n",
       "      <td>NaN</td>\n",
       "      <td>NaN</td>\n",
       "      <td>NaN</td>\n",
       "      <td>NaN</td>\n",
       "      <td>NaN</td>\n",
       "      <td>NaN</td>\n",
       "    </tr>\n",
       "    <tr>\n",
       "      <th>9</th>\n",
       "      <td>Fiat X1-9</td>\n",
       "      <td>NaN</td>\n",
       "      <td>NaN</td>\n",
       "      <td>NaN</td>\n",
       "      <td>NaN</td>\n",
       "      <td>NaN</td>\n",
       "      <td>NaN</td>\n",
       "      <td>NaN</td>\n",
       "      <td>NaN</td>\n",
       "      <td>NaN</td>\n",
       "      <td>NaN</td>\n",
       "      <td>NaN</td>\n",
       "    </tr>\n",
       "    <tr>\n",
       "      <th>10</th>\n",
       "      <td>Ford Pantera L</td>\n",
       "      <td>NaN</td>\n",
       "      <td>NaN</td>\n",
       "      <td>NaN</td>\n",
       "      <td>NaN</td>\n",
       "      <td>NaN</td>\n",
       "      <td>NaN</td>\n",
       "      <td>NaN</td>\n",
       "      <td>NaN</td>\n",
       "      <td>NaN</td>\n",
       "      <td>NaN</td>\n",
       "      <td>NaN</td>\n",
       "    </tr>\n",
       "    <tr>\n",
       "      <th>11</th>\n",
       "      <td>Honda Civic</td>\n",
       "      <td>NaN</td>\n",
       "      <td>NaN</td>\n",
       "      <td>NaN</td>\n",
       "      <td>NaN</td>\n",
       "      <td>NaN</td>\n",
       "      <td>NaN</td>\n",
       "      <td>NaN</td>\n",
       "      <td>NaN</td>\n",
       "      <td>NaN</td>\n",
       "      <td>NaN</td>\n",
       "      <td>NaN</td>\n",
       "    </tr>\n",
       "    <tr>\n",
       "      <th>12</th>\n",
       "      <td>Hornet 4 Drive</td>\n",
       "      <td>NaN</td>\n",
       "      <td>NaN</td>\n",
       "      <td>NaN</td>\n",
       "      <td>NaN</td>\n",
       "      <td>NaN</td>\n",
       "      <td>NaN</td>\n",
       "      <td>NaN</td>\n",
       "      <td>NaN</td>\n",
       "      <td>NaN</td>\n",
       "      <td>NaN</td>\n",
       "      <td>NaN</td>\n",
       "    </tr>\n",
       "    <tr>\n",
       "      <th>13</th>\n",
       "      <td>Hornet Sportabout</td>\n",
       "      <td>NaN</td>\n",
       "      <td>NaN</td>\n",
       "      <td>NaN</td>\n",
       "      <td>NaN</td>\n",
       "      <td>NaN</td>\n",
       "      <td>NaN</td>\n",
       "      <td>NaN</td>\n",
       "      <td>NaN</td>\n",
       "      <td>NaN</td>\n",
       "      <td>NaN</td>\n",
       "      <td>NaN</td>\n",
       "    </tr>\n",
       "    <tr>\n",
       "      <th>14</th>\n",
       "      <td>Lincoln Continental</td>\n",
       "      <td>NaN</td>\n",
       "      <td>NaN</td>\n",
       "      <td>NaN</td>\n",
       "      <td>NaN</td>\n",
       "      <td>NaN</td>\n",
       "      <td>NaN</td>\n",
       "      <td>NaN</td>\n",
       "      <td>NaN</td>\n",
       "      <td>NaN</td>\n",
       "      <td>NaN</td>\n",
       "      <td>NaN</td>\n",
       "    </tr>\n",
       "    <tr>\n",
       "      <th>15</th>\n",
       "      <td>Lotus Europa</td>\n",
       "      <td>NaN</td>\n",
       "      <td>NaN</td>\n",
       "      <td>NaN</td>\n",
       "      <td>NaN</td>\n",
       "      <td>NaN</td>\n",
       "      <td>NaN</td>\n",
       "      <td>NaN</td>\n",
       "      <td>NaN</td>\n",
       "      <td>NaN</td>\n",
       "      <td>NaN</td>\n",
       "      <td>NaN</td>\n",
       "    </tr>\n",
       "    <tr>\n",
       "      <th>16</th>\n",
       "      <td>Maserati Bora</td>\n",
       "      <td>NaN</td>\n",
       "      <td>NaN</td>\n",
       "      <td>NaN</td>\n",
       "      <td>NaN</td>\n",
       "      <td>NaN</td>\n",
       "      <td>NaN</td>\n",
       "      <td>NaN</td>\n",
       "      <td>NaN</td>\n",
       "      <td>NaN</td>\n",
       "      <td>NaN</td>\n",
       "      <td>NaN</td>\n",
       "    </tr>\n",
       "    <tr>\n",
       "      <th>17</th>\n",
       "      <td>Mazda RX4</td>\n",
       "      <td>NaN</td>\n",
       "      <td>NaN</td>\n",
       "      <td>NaN</td>\n",
       "      <td>NaN</td>\n",
       "      <td>NaN</td>\n",
       "      <td>NaN</td>\n",
       "      <td>NaN</td>\n",
       "      <td>NaN</td>\n",
       "      <td>NaN</td>\n",
       "      <td>NaN</td>\n",
       "      <td>NaN</td>\n",
       "    </tr>\n",
       "    <tr>\n",
       "      <th>18</th>\n",
       "      <td>Mazda RX4 Wag</td>\n",
       "      <td>NaN</td>\n",
       "      <td>NaN</td>\n",
       "      <td>NaN</td>\n",
       "      <td>NaN</td>\n",
       "      <td>NaN</td>\n",
       "      <td>NaN</td>\n",
       "      <td>NaN</td>\n",
       "      <td>NaN</td>\n",
       "      <td>NaN</td>\n",
       "      <td>NaN</td>\n",
       "      <td>NaN</td>\n",
       "    </tr>\n",
       "    <tr>\n",
       "      <th>19</th>\n",
       "      <td>Merc 230</td>\n",
       "      <td>NaN</td>\n",
       "      <td>NaN</td>\n",
       "      <td>NaN</td>\n",
       "      <td>NaN</td>\n",
       "      <td>NaN</td>\n",
       "      <td>NaN</td>\n",
       "      <td>NaN</td>\n",
       "      <td>NaN</td>\n",
       "      <td>NaN</td>\n",
       "      <td>NaN</td>\n",
       "      <td>NaN</td>\n",
       "    </tr>\n",
       "    <tr>\n",
       "      <th>20</th>\n",
       "      <td>Merc 240D</td>\n",
       "      <td>NaN</td>\n",
       "      <td>NaN</td>\n",
       "      <td>NaN</td>\n",
       "      <td>NaN</td>\n",
       "      <td>NaN</td>\n",
       "      <td>NaN</td>\n",
       "      <td>NaN</td>\n",
       "      <td>NaN</td>\n",
       "      <td>NaN</td>\n",
       "      <td>NaN</td>\n",
       "      <td>NaN</td>\n",
       "    </tr>\n",
       "    <tr>\n",
       "      <th>21</th>\n",
       "      <td>Merc 280</td>\n",
       "      <td>NaN</td>\n",
       "      <td>NaN</td>\n",
       "      <td>NaN</td>\n",
       "      <td>NaN</td>\n",
       "      <td>NaN</td>\n",
       "      <td>NaN</td>\n",
       "      <td>NaN</td>\n",
       "      <td>NaN</td>\n",
       "      <td>NaN</td>\n",
       "      <td>NaN</td>\n",
       "      <td>NaN</td>\n",
       "    </tr>\n",
       "    <tr>\n",
       "      <th>22</th>\n",
       "      <td>Merc 280C</td>\n",
       "      <td>NaN</td>\n",
       "      <td>NaN</td>\n",
       "      <td>NaN</td>\n",
       "      <td>NaN</td>\n",
       "      <td>NaN</td>\n",
       "      <td>NaN</td>\n",
       "      <td>NaN</td>\n",
       "      <td>NaN</td>\n",
       "      <td>NaN</td>\n",
       "      <td>NaN</td>\n",
       "      <td>NaN</td>\n",
       "    </tr>\n",
       "    <tr>\n",
       "      <th>23</th>\n",
       "      <td>Merc 450SE</td>\n",
       "      <td>NaN</td>\n",
       "      <td>NaN</td>\n",
       "      <td>NaN</td>\n",
       "      <td>NaN</td>\n",
       "      <td>NaN</td>\n",
       "      <td>NaN</td>\n",
       "      <td>NaN</td>\n",
       "      <td>NaN</td>\n",
       "      <td>NaN</td>\n",
       "      <td>NaN</td>\n",
       "      <td>NaN</td>\n",
       "    </tr>\n",
       "    <tr>\n",
       "      <th>24</th>\n",
       "      <td>Merc 450SL</td>\n",
       "      <td>NaN</td>\n",
       "      <td>NaN</td>\n",
       "      <td>NaN</td>\n",
       "      <td>NaN</td>\n",
       "      <td>NaN</td>\n",
       "      <td>NaN</td>\n",
       "      <td>NaN</td>\n",
       "      <td>NaN</td>\n",
       "      <td>NaN</td>\n",
       "      <td>NaN</td>\n",
       "      <td>NaN</td>\n",
       "    </tr>\n",
       "    <tr>\n",
       "      <th>25</th>\n",
       "      <td>Merc 450SLC</td>\n",
       "      <td>NaN</td>\n",
       "      <td>NaN</td>\n",
       "      <td>NaN</td>\n",
       "      <td>NaN</td>\n",
       "      <td>NaN</td>\n",
       "      <td>NaN</td>\n",
       "      <td>NaN</td>\n",
       "      <td>NaN</td>\n",
       "      <td>NaN</td>\n",
       "      <td>NaN</td>\n",
       "      <td>NaN</td>\n",
       "    </tr>\n",
       "    <tr>\n",
       "      <th>26</th>\n",
       "      <td>Pontiac Firebird</td>\n",
       "      <td>NaN</td>\n",
       "      <td>NaN</td>\n",
       "      <td>NaN</td>\n",
       "      <td>NaN</td>\n",
       "      <td>NaN</td>\n",
       "      <td>NaN</td>\n",
       "      <td>NaN</td>\n",
       "      <td>NaN</td>\n",
       "      <td>NaN</td>\n",
       "      <td>NaN</td>\n",
       "      <td>NaN</td>\n",
       "    </tr>\n",
       "    <tr>\n",
       "      <th>27</th>\n",
       "      <td>Porsche 914-2</td>\n",
       "      <td>NaN</td>\n",
       "      <td>NaN</td>\n",
       "      <td>NaN</td>\n",
       "      <td>NaN</td>\n",
       "      <td>NaN</td>\n",
       "      <td>NaN</td>\n",
       "      <td>NaN</td>\n",
       "      <td>NaN</td>\n",
       "      <td>NaN</td>\n",
       "      <td>NaN</td>\n",
       "      <td>NaN</td>\n",
       "    </tr>\n",
       "    <tr>\n",
       "      <th>28</th>\n",
       "      <td>Toyota Corolla</td>\n",
       "      <td>NaN</td>\n",
       "      <td>NaN</td>\n",
       "      <td>NaN</td>\n",
       "      <td>NaN</td>\n",
       "      <td>NaN</td>\n",
       "      <td>NaN</td>\n",
       "      <td>NaN</td>\n",
       "      <td>NaN</td>\n",
       "      <td>NaN</td>\n",
       "      <td>NaN</td>\n",
       "      <td>NaN</td>\n",
       "    </tr>\n",
       "    <tr>\n",
       "      <th>29</th>\n",
       "      <td>Toyota Corona</td>\n",
       "      <td>NaN</td>\n",
       "      <td>NaN</td>\n",
       "      <td>NaN</td>\n",
       "      <td>NaN</td>\n",
       "      <td>NaN</td>\n",
       "      <td>NaN</td>\n",
       "      <td>NaN</td>\n",
       "      <td>NaN</td>\n",
       "      <td>NaN</td>\n",
       "      <td>NaN</td>\n",
       "      <td>NaN</td>\n",
       "    </tr>\n",
       "    <tr>\n",
       "      <th>30</th>\n",
       "      <td>Valiant</td>\n",
       "      <td>NaN</td>\n",
       "      <td>NaN</td>\n",
       "      <td>NaN</td>\n",
       "      <td>NaN</td>\n",
       "      <td>NaN</td>\n",
       "      <td>NaN</td>\n",
       "      <td>NaN</td>\n",
       "      <td>NaN</td>\n",
       "      <td>NaN</td>\n",
       "      <td>NaN</td>\n",
       "      <td>NaN</td>\n",
       "    </tr>\n",
       "    <tr>\n",
       "      <th>31</th>\n",
       "      <td>Volvo 142E</td>\n",
       "      <td>NaN</td>\n",
       "      <td>NaN</td>\n",
       "      <td>NaN</td>\n",
       "      <td>NaN</td>\n",
       "      <td>NaN</td>\n",
       "      <td>NaN</td>\n",
       "      <td>NaN</td>\n",
       "      <td>NaN</td>\n",
       "      <td>NaN</td>\n",
       "      <td>NaN</td>\n",
       "      <td>NaN</td>\n",
       "    </tr>\n",
       "  </tbody>\n",
       "</table>\n",
       "</div>"
      ],
      "text/plain": [
       "                  model   mpg  cyl   disp     hp  drat    wt   qsec   vs   am  \\\n",
       "0           AMC Javelin  10.4  8.0  275.8  110.0  3.07  3.44  17.02  0.0  0.0   \n",
       "1    Cadillac Fleetwood  15.2  NaN    NaN  175.0  3.92   NaN  18.90  NaN  NaN   \n",
       "2            Camaro Z28  19.2  NaN    NaN  180.0   NaN   NaN    NaN  NaN  NaN   \n",
       "3     Chrysler Imperial  21.0  NaN    NaN    NaN   NaN   NaN    NaN  NaN  NaN   \n",
       "4            Datsun 710  21.4  NaN    NaN    NaN   NaN   NaN    NaN  NaN  NaN   \n",
       "5      Dodge Challenger  22.8  NaN    NaN    NaN   NaN   NaN    NaN  NaN  NaN   \n",
       "6            Duster 360  30.4  NaN    NaN    NaN   NaN   NaN    NaN  NaN  NaN   \n",
       "7          Ferrari Dino   NaN  NaN    NaN    NaN   NaN   NaN    NaN  NaN  NaN   \n",
       "8              Fiat 128   NaN  NaN    NaN    NaN   NaN   NaN    NaN  NaN  NaN   \n",
       "9             Fiat X1-9   NaN  NaN    NaN    NaN   NaN   NaN    NaN  NaN  NaN   \n",
       "10       Ford Pantera L   NaN  NaN    NaN    NaN   NaN   NaN    NaN  NaN  NaN   \n",
       "11          Honda Civic   NaN  NaN    NaN    NaN   NaN   NaN    NaN  NaN  NaN   \n",
       "12       Hornet 4 Drive   NaN  NaN    NaN    NaN   NaN   NaN    NaN  NaN  NaN   \n",
       "13    Hornet Sportabout   NaN  NaN    NaN    NaN   NaN   NaN    NaN  NaN  NaN   \n",
       "14  Lincoln Continental   NaN  NaN    NaN    NaN   NaN   NaN    NaN  NaN  NaN   \n",
       "15         Lotus Europa   NaN  NaN    NaN    NaN   NaN   NaN    NaN  NaN  NaN   \n",
       "16        Maserati Bora   NaN  NaN    NaN    NaN   NaN   NaN    NaN  NaN  NaN   \n",
       "17            Mazda RX4   NaN  NaN    NaN    NaN   NaN   NaN    NaN  NaN  NaN   \n",
       "18        Mazda RX4 Wag   NaN  NaN    NaN    NaN   NaN   NaN    NaN  NaN  NaN   \n",
       "19             Merc 230   NaN  NaN    NaN    NaN   NaN   NaN    NaN  NaN  NaN   \n",
       "20            Merc 240D   NaN  NaN    NaN    NaN   NaN   NaN    NaN  NaN  NaN   \n",
       "21             Merc 280   NaN  NaN    NaN    NaN   NaN   NaN    NaN  NaN  NaN   \n",
       "22            Merc 280C   NaN  NaN    NaN    NaN   NaN   NaN    NaN  NaN  NaN   \n",
       "23           Merc 450SE   NaN  NaN    NaN    NaN   NaN   NaN    NaN  NaN  NaN   \n",
       "24           Merc 450SL   NaN  NaN    NaN    NaN   NaN   NaN    NaN  NaN  NaN   \n",
       "25          Merc 450SLC   NaN  NaN    NaN    NaN   NaN   NaN    NaN  NaN  NaN   \n",
       "26     Pontiac Firebird   NaN  NaN    NaN    NaN   NaN   NaN    NaN  NaN  NaN   \n",
       "27        Porsche 914-2   NaN  NaN    NaN    NaN   NaN   NaN    NaN  NaN  NaN   \n",
       "28       Toyota Corolla   NaN  NaN    NaN    NaN   NaN   NaN    NaN  NaN  NaN   \n",
       "29        Toyota Corona   NaN  NaN    NaN    NaN   NaN   NaN    NaN  NaN  NaN   \n",
       "30              Valiant   NaN  NaN    NaN    NaN   NaN   NaN    NaN  NaN  NaN   \n",
       "31           Volvo 142E   NaN  NaN    NaN    NaN   NaN   NaN    NaN  NaN  NaN   \n",
       "\n",
       "    gear  carb  \n",
       "0    3.0   2.0  \n",
       "1    NaN   4.0  \n",
       "2    NaN   NaN  \n",
       "3    NaN   NaN  \n",
       "4    NaN   NaN  \n",
       "5    NaN   NaN  \n",
       "6    NaN   NaN  \n",
       "7    NaN   NaN  \n",
       "8    NaN   NaN  \n",
       "9    NaN   NaN  \n",
       "10   NaN   NaN  \n",
       "11   NaN   NaN  \n",
       "12   NaN   NaN  \n",
       "13   NaN   NaN  \n",
       "14   NaN   NaN  \n",
       "15   NaN   NaN  \n",
       "16   NaN   NaN  \n",
       "17   NaN   NaN  \n",
       "18   NaN   NaN  \n",
       "19   NaN   NaN  \n",
       "20   NaN   NaN  \n",
       "21   NaN   NaN  \n",
       "22   NaN   NaN  \n",
       "23   NaN   NaN  \n",
       "24   NaN   NaN  \n",
       "25   NaN   NaN  \n",
       "26   NaN   NaN  \n",
       "27   NaN   NaN  \n",
       "28   NaN   NaN  \n",
       "29   NaN   NaN  \n",
       "30   NaN   NaN  \n",
       "31   NaN   NaN  "
      ]
     },
     "execution_count": 42,
     "metadata": {},
     "output_type": "execute_result"
    }
   ],
   "source": [
    "df.mode()"
   ]
  },
  {
   "cell_type": "code",
   "execution_count": null,
   "metadata": {},
   "outputs": [],
   "source": [
    "Measures of Spread\n",
    "Measures of spread (dispersion) are statistics that describe how data varies.\n",
    "While measures of center give us an idea of the typical value, measures of spread give us a sense of how much the data tends\n",
    "to diverge from the typical value."
   ]
  },
  {
   "cell_type": "raw",
   "metadata": {},
   "source": [
    "One of the simplest measures of spread is the range. Range is the distance between the maximum and minimum observations:"
   ]
  },
  {
   "cell_type": "code",
   "execution_count": 18,
   "metadata": {},
   "outputs": [
    {
     "data": {
      "text/plain": [
       "0               Mazda RX4\n",
       "1           Mazda RX4 Wag\n",
       "2              Datsun 710\n",
       "3          Hornet 4 Drive\n",
       "4       Hornet Sportabout\n",
       "5                 Valiant\n",
       "6              Duster 360\n",
       "7               Merc 240D\n",
       "8                Merc 230\n",
       "9                Merc 280\n",
       "10              Merc 280C\n",
       "11             Merc 450SE\n",
       "12             Merc 450SL\n",
       "13            Merc 450SLC\n",
       "14     Cadillac Fleetwood\n",
       "15    Lincoln Continental\n",
       "16      Chrysler Imperial\n",
       "17               Fiat 128\n",
       "18            Honda Civic\n",
       "19         Toyota Corolla\n",
       "20          Toyota Corona\n",
       "21       Dodge Challenger\n",
       "22            AMC Javelin\n",
       "23             Camaro Z28\n",
       "24       Pontiac Firebird\n",
       "25              Fiat X1-9\n",
       "26          Porsche 914-2\n",
       "27           Lotus Europa\n",
       "28         Ford Pantera L\n",
       "29           Ferrari Dino\n",
       "30          Maserati Bora\n",
       "31             Volvo 142E\n",
       "Name: model, dtype: object"
      ]
     },
     "execution_count": 18,
     "metadata": {},
     "output_type": "execute_result"
    }
   ],
   "source": [
    "df['model']"
   ]
  },
  {
   "cell_type": "code",
   "execution_count": 44,
   "metadata": {},
   "outputs": [
    {
     "data": {
      "text/plain": [
       "23.5"
      ]
     },
     "execution_count": 44,
     "metadata": {},
     "output_type": "execute_result"
    }
   ],
   "source": [
    "max(df['mpg']-min(df['mpg']))"
   ]
  },
  {
   "cell_type": "raw",
   "metadata": {},
   "source": [
    "the median represents the 50th percentile of a data set. A summary of several percentiles can be used to describe a variable's\n",
    "spread. We can extract the minimum value (0th percentile), first quartile (25th percentile), median,\n",
    "third quartile(75th percentile) and maximum value (100th percentile) using the quantile() function:"
   ]
  },
  {
   "cell_type": "code",
   "execution_count": 47,
   "metadata": {},
   "outputs": [
    {
     "data": {
      "text/plain": [
       "[10.4, 15.425, 19.2, 22.8, 33.9]"
      ]
     },
     "execution_count": 47,
     "metadata": {},
     "output_type": "execute_result"
    }
   ],
   "source": [
    "fps = [df['mpg'].quantile(0),df['mpg'].quantile(0.25),df['mpg'].quantile(0.50),df['mpg'].quantile(0.75),df['mpg']\n",
    "       .quantile(1)]\n",
    "fps"
   ]
  },
  {
   "cell_type": "raw",
   "metadata": {},
   "source": [
    "Since these values are so commonly used to describe data, they are known as the \"five number summary\".\n",
    "They are the same percentile values returned by df.describe():"
   ]
  },
  {
   "cell_type": "raw",
   "metadata": {},
   "source": [
    "nterquartile (IQR) range is another common measure of spread. \n",
    "IQR is the distance between the 3rd quartile and the 1st quartile:"
   ]
  },
  {
   "cell_type": "code",
   "execution_count": 48,
   "metadata": {},
   "outputs": [
    {
     "data": {
      "text/plain": [
       "7.375"
      ]
     },
     "execution_count": 48,
     "metadata": {},
     "output_type": "execute_result"
    }
   ],
   "source": [
    "df[\"mpg\"].quantile(0.75) - df[\"mpg\"].quantile(0.25)"
   ]
  },
  {
   "cell_type": "code",
   "execution_count": 56,
   "metadata": {},
   "outputs": [
    {
     "data": {
      "image/png": "[encoded data removed]",
      "text/plain": [
       "<Figure size 576x576 with 1 Axes>"
      ]
     },
     "metadata": {
      "needs_background": "light"
     },
     "output_type": "display_data"
    }
   ],
   "source": [
    "df.boxplot(column=\"mpg\",\n",
    "               return_type='axes',\n",
    "               figsize=(8,8))\n",
    "\n",
    "\n",
    "plt.text(x=0.74, y=22.25, s=\"3rd Quartile\")\n",
    "plt.text(x=0.8, y=18.75, s=\"Median\")\n",
    "plt.text(x=0.75, y=15.5, s=\"1st Quartile\")\n",
    "plt.text(x=0.9, y=10, s=\"Min\")\n",
    "plt.text(x=0.9, y=33.5, s=\"Max\")\n",
    "plt.text(x=0.7, y=19.5, s=\"IQR\", rotation=360, size=25,color = 'blue');"
   ]
  },
  {
   "cell_type": "raw",
   "metadata": {},
   "source": [
    "Variance and standard deviation are two other common measures of spread. \n",
    "The variance of a distribution is the average of the squared deviations (differences) from the mean.\n",
    "Use df.var() to check variance:"
   ]
  },
  {
   "cell_type": "code",
   "execution_count": 57,
   "metadata": {},
   "outputs": [
    {
     "data": {
      "text/plain": [
       "36.32410282258065"
      ]
     },
     "execution_count": 57,
     "metadata": {},
     "output_type": "execute_result"
    }
   ],
   "source": [
    "df[\"mpg\"].var()\n"
   ]
  },
  {
   "cell_type": "raw",
   "metadata": {},
   "source": [
    "The standard deviation is the square root of the variance. \n",
    "Standard deviation can be more interpretable than variance, since the standard deviation is expressed in terms of\n",
    "the same units as the variable in question while variance is expressed in terms of units squared. Use df.std() to\n",
    "check the standard deviation:"
   ]
  },
  {
   "cell_type": "code",
   "execution_count": 58,
   "metadata": {},
   "outputs": [
    {
     "data": {
      "text/plain": [
       "6.026948052089105"
      ]
     },
     "execution_count": 58,
     "metadata": {},
     "output_type": "execute_result"
    }
   ],
   "source": [
    "df[\"mpg\"].std()\n"
   ]
  },
  {
   "cell_type": "raw",
   "metadata": {},
   "source": [
    "Skewness and Kurtosis:\n",
    "    \n",
    "     Skewness measures the skew or asymmetry of a distribution while kurtosis measures how much data is in the tails of a distribution v.s. the center. \n",
    "     We won't go into the exact calculations behind skewness and kurtosis, but they are essentially just statistics \n",
    "    that take the idea of variance a step further: while variance involves squaring deviations from the mean, \n",
    "        skewness involves cubing deviations from the mean and kurtosis involves raising deviations from the mean to the 4th power."
   ]
  },
  {
   "cell_type": "code",
   "execution_count": 60,
   "metadata": {},
   "outputs": [
    {
     "data": {
      "text/plain": [
       "0.6723771376290805"
      ]
     },
     "execution_count": 60,
     "metadata": {},
     "output_type": "execute_result"
    }
   ],
   "source": [
    "df[\"mpg\"].skew()  # Check skewness\n",
    "\n"
   ]
  },
  {
   "cell_type": "code",
   "execution_count": 61,
   "metadata": {},
   "outputs": [
    {
     "data": {
      "text/plain": [
       "-0.0220062914240855"
      ]
     },
     "execution_count": 61,
     "metadata": {},
     "output_type": "execute_result"
    }
   ],
   "source": [
    "df[\"mpg\"].kurt()  # Check kurtosis\n"
   ]
  },
  {
   "cell_type": "code",
   "execution_count": 64,
   "metadata": {},
   "outputs": [],
   "source": [
    "norm_data = np.random.normal(size=100000)\n",
    "skewed_data = np.concatenate((np.random.normal(size=35000), \n",
    "                             np.random.exponential(size=65000)), \n",
    "                             axis=0)\n",
    "uniform_data = np.random.uniform(0,2, size=100000)\n",
    "peaked_data = np.concatenate((np.random.exponential(size=50000),\n",
    "                             np.random.exponential(size=50000)*(-1)),\n",
    "                             axis=0)\n",
    "\n",
    "data_df = pd.DataFrame({\"norm\":norm_data,\n",
    "                       \"skewed\":skewed_data,\n",
    "                       \"uniform\":uniform_data,\n",
    "                       \"peaked\":peaked_data})"
   ]
  },
  {
   "cell_type": "code",
   "execution_count": 65,
   "metadata": {},
   "outputs": [
    {
     "data": {
      "image/png": "[encoded data removed]",
      "text/plain": [
       "<Figure size 720x720 with 1 Axes>"
      ]
     },
     "metadata": {
      "needs_background": "light"
     },
     "output_type": "display_data"
    }
   ],
   "source": [
    "\n",
    "data_df.plot(kind=\"density\",\n",
    "            figsize=(10,10),\n",
    "            xlim=(-5,5));"
   ]
  },
  {
   "cell_type": "code",
   "execution_count": null,
   "metadata": {},
   "outputs": [],
   "source": [
    "# Probability :\n",
    "Likelihood of an event\n",
    "Event :Outcome of an experiment\n",
    "Experiment :Process  that is performed  to understand and observe the possible outcomes\n",
    "SS = Set of all possible outcomes in an experiment\n"
   ]
  },
  {
   "cell_type": "code",
   "execution_count": null,
   "metadata": {},
   "outputs": [],
   "source": [
    "Eg :In a manufacturing  unit, 3 parts are selected,to check if they are defective or not\n",
    "    1.SS\n",
    "    2.the event of getting atleast 2 defective parts\n",
    "    "
   ]
  },
  {
   "cell_type": "code",
   "execution_count": null,
   "metadata": {},
   "outputs": [],
   "source": [
    "Possibility : 0D,1D,2D,3D\n",
    "E is an event of atleast 2 defective,( 2 and 3def)\n",
    "\n",
    "SS = {8 outcomes}\n",
    "\n",
    "p(1D) = lets say 10%\n",
    "p(2D) = p(GDD 0r DGD or DDG)\n",
    "add ( if one happens the other cannot ( mutually exclusive events))\n",
    "\n",
    "eg : 1,2,3 winner\n",
    "multiply( independent) : first is good or bad has nothing to do with second one\n",
    "    \n",
    "p(G and D and D) or p(D and G and D) or p(D and D and G)\n"
   ]
  }
 ],
 "metadata": {
  "kernelspec": {
   "display_name": "Python 3",
   "language": "python",
   "name": "python3"
  },
  "language_info": {
   "codemirror_mode": {
    "name": "ipython",
    "version": 3
   },
   "file_extension": ".py",
   "mimetype": "text/x-python",
   "name": "python",
   "nbconvert_exporter": "python",
   "pygments_lexer": "ipython3",
   "version": "3.8.3"
  }
 },
 "nbformat": 4,
 "nbformat_minor": 4
}
